{
 "cells": [
  {
   "cell_type": "code",
   "execution_count": 1,
   "id": "e78c44ae",
   "metadata": {},
   "outputs": [],
   "source": [
    "import numpy as np\n",
    "X1 = [1, 1, -1, -1, 1, 1]\n",
    "X2 = [-1, -1, 1, 1, -1, -1]\n",
    "X = np.array([X1, X2])\n",
    "Y1 = [1, -1, 1]\n",
    "Y2 = [-1, 1, -1]\n",
    "Y = np.array([Y1, Y2])\n",
    "weight = np.dot(X.T, Y)"
   ]
  },
  {
   "cell_type": "code",
   "execution_count": 2,
   "id": "0ad7104d",
   "metadata": {},
   "outputs": [],
   "source": [
    "def ForwardBipolarActivation(matrix, weight):\n",
    "    matrix[matrix > 0] = 1\n",
    "    matrix[matrix <= 0] = -1\n",
    "    return np.array(matrix)\n",
    "\n",
    "def BackwardBipolarActivation(matrix, weight):\n",
    "    matrix[matrix >= 0] = 1\n",
    "    matrix[matrix < 0] = -1\n",
    "    return np.array(matrix)"
   ]
  },
  {
   "cell_type": "code",
   "execution_count": 3,
   "id": "f6d57bde",
   "metadata": {},
   "outputs": [
    {
     "name": "stdout",
     "output_type": "stream",
     "text": [
      "\n",
      "weight * X1 =  [ 1 -1  1]\n",
      "\n",
      "weight * X2 =  [-1  1 -1]\n"
     ]
    }
   ],
   "source": [
    "def forward(X, weight): \n",
    "    y = np.dot(weight.T, X) \n",
    "    return ForwardBipolarActivation(y, weight)\n",
    "print(\"\\nweight * X1 = \", forward(X1, weight))\n",
    "print(\"\\nweight * X2 = \", forward(X2, weight))"
   ]
  },
  {
   "cell_type": "code",
   "execution_count": 4,
   "id": "f3704833",
   "metadata": {},
   "outputs": [
    {
     "name": "stdout",
     "output_type": "stream",
     "text": [
      "\n",
      "weight * Y1 =  [ 1  1 -1 -1  1  1]\n",
      "\n",
      "weight * Y2 =  [-1 -1  1  1 -1 -1]\n"
     ]
    }
   ],
   "source": [
    "def backward(Y, weight): \n",
    "    x = np.dot(Y, weight.T)\n",
    "    return BackwardBipolarActivation(x, weight)\n",
    "print(\"\\nweight * Y1 = \", backward(Y1, weight))\n",
    "print(\"\\nweight * Y2 = \", backward(Y2, weight))"
   ]
  },
  {
   "cell_type": "code",
   "execution_count": null,
   "id": "3f3893e8",
   "metadata": {},
   "outputs": [],
   "source": []
  }
 ],
 "metadata": {
  "kernelspec": {
   "display_name": "Python 3 (ipykernel)",
   "language": "python",
   "name": "python3"
  },
  "language_info": {
   "codemirror_mode": {
    "name": "ipython",
    "version": 3
   },
   "file_extension": ".py",
   "mimetype": "text/x-python",
   "name": "python",
   "nbconvert_exporter": "python",
   "pygments_lexer": "ipython3",
   "version": "3.9.18"
  }
 },
 "nbformat": 4,
 "nbformat_minor": 5
}
